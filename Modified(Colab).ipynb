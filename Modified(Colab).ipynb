{
  "nbformat": 4,
  "nbformat_minor": 0,
  "metadata": {
    "colab": {
      "name": "Untitled0.ipynb",
      "provenance": [],
      "collapsed_sections": []
    },
    "kernelspec": {
      "name": "python3",
      "display_name": "Python 3"
    },
    "accelerator": "GPU"
  },
  "cells": [
    {
      "cell_type": "markdown",
      "metadata": {
        "id": "LKmVmdup3zmN",
        "colab_type": "text"
      },
      "source": [
        "MOUNTING THE DRIVE"
      ]
    },
    {
      "cell_type": "code",
      "metadata": {
        "id": "le60JPQoFeKu",
        "colab_type": "code",
        "colab": {
          "base_uri": "https://localhost:8080/",
          "height": 122
        },
        "outputId": "b2f0b947-a23e-46a6-fcb5-cdd1b41735f3"
      },
      "source": [
        "from google.colab import drive\n",
        "drive.mount('/content/drive')"
      ],
      "execution_count": 1,
      "outputs": [
        {
          "output_type": "stream",
          "text": [
            "Go to this URL in a browser: https://accounts.google.com/o/oauth2/auth?client_id=947318989803-6bn6qk8qdgf4n4g3pfee6491hc0brc4i.apps.googleusercontent.com&redirect_uri=urn%3aietf%3awg%3aoauth%3a2.0%3aoob&response_type=code&scope=email%20https%3a%2f%2fwww.googleapis.com%2fauth%2fdocs.test%20https%3a%2f%2fwww.googleapis.com%2fauth%2fdrive%20https%3a%2f%2fwww.googleapis.com%2fauth%2fdrive.photos.readonly%20https%3a%2f%2fwww.googleapis.com%2fauth%2fpeopleapi.readonly\n",
            "\n",
            "Enter your authorization code:\n",
            "··········\n",
            "Mounted at /content/drive\n"
          ],
          "name": "stdout"
        }
      ]
    },
    {
      "cell_type": "markdown",
      "metadata": {
        "id": "ZA4_AWkh3yZJ",
        "colab_type": "text"
      },
      "source": [
        "**LOADING THE DATA**\n",
        "\n",
        "TRAIN IMAGES FILE = train-images-idx3-ubyte\n",
        "\n",
        "TRAIN IMAGE LABELS= train-labels-idx1-ubyte\n",
        "\n",
        "TEST IMAGES FILE  = test-images-idx3-ubyte\n",
        "\n",
        "TEST IMAGE LABELS=  test-labels-idx1-ubyte"
      ]
    },
    {
      "cell_type": "code",
      "metadata": {
        "id": "CCwJf6SHGLQM",
        "colab_type": "code",
        "colab": {}
      },
      "source": [
        "from mlxtend.data import loadlocal_mnist"
      ],
      "execution_count": 3,
      "outputs": []
    },
    {
      "cell_type": "code",
      "metadata": {
        "id": "fg-hPyewI1Hu",
        "colab_type": "code",
        "colab": {}
      },
      "source": [
        "X_train,y_train=loadlocal_mnist(images_path='/content/drive/My Drive/image class/train-images-idx3-ubyte',\n",
        "                                labels_path='/content/drive/My Drive/image class/train-labels-idx1-ubyte')"
      ],
      "execution_count": 4,
      "outputs": []
    },
    {
      "cell_type": "code",
      "metadata": {
        "id": "_OKQ4D6nJn4W",
        "colab_type": "code",
        "colab": {}
      },
      "source": [
        "X_test,y_test=loadlocal_mnist(images_path='/content/drive/My Drive/image class/t10k-images-idx3-ubyte',\n",
        "                            labels_path='/content/drive/My Drive/image class/t10k-labels-idx1-ubyte')"
      ],
      "execution_count": 5,
      "outputs": []
    },
    {
      "cell_type": "markdown",
      "metadata": {
        "id": "YvFhIhHg6ogf",
        "colab_type": "text"
      },
      "source": [
        "**PRE**-**PROCESSING** **THE** **DATA**"
      ]
    },
    {
      "cell_type": "markdown",
      "metadata": {
        "id": "1euDZKMb40io",
        "colab_type": "text"
      },
      "source": [
        "CONVERTING PIXEL VALUES FROM INT TO FLOAT"
      ]
    },
    {
      "cell_type": "code",
      "metadata": {
        "id": "oESv9wIENxs-",
        "colab_type": "code",
        "colab": {}
      },
      "source": [
        "X_train=X_train.astype('float32')\n",
        "X_test=X_test.astype('float32')"
      ],
      "execution_count": 6,
      "outputs": []
    },
    {
      "cell_type": "markdown",
      "metadata": {
        "id": "fytrdHSH5RrB",
        "colab_type": "text"
      },
      "source": [
        "UNFLATTENING THE IMAGES TO 28x28"
      ]
    },
    {
      "cell_type": "code",
      "metadata": {
        "id": "M0B6GF1aVVgi",
        "colab_type": "code",
        "colab": {}
      },
      "source": [
        "X_train=X_train.reshape(X_train.shape[0],28,28,1)\n",
        "X_test=X_test.reshape(X_test.shape[0],28,28,1)"
      ],
      "execution_count": 7,
      "outputs": []
    },
    {
      "cell_type": "markdown",
      "metadata": {
        "id": "8fP2ZUR4A1Wy",
        "colab_type": "text"
      },
      "source": [
        "NORMALISING THE DATA TO MAKE IT CONVERGE FASTER "
      ]
    },
    {
      "cell_type": "code",
      "metadata": {
        "id": "bUCtc2mqO2uZ",
        "colab_type": "code",
        "colab": {}
      },
      "source": [
        "X_train = (X_train/255.0) \n",
        "X_test = (X_test/255.0)"
      ],
      "execution_count": 9,
      "outputs": []
    },
    {
      "cell_type": "markdown",
      "metadata": {
        "id": "Mga0SFjW6hg_",
        "colab_type": "text"
      },
      "source": [
        "CONVERTING LABELS TO ONE-HOT-VECTORS"
      ]
    },
    {
      "cell_type": "code",
      "metadata": {
        "id": "2CVFj5hyPEod",
        "colab_type": "code",
        "colab": {
          "base_uri": "https://localhost:8080/",
          "height": 34
        },
        "outputId": "5e0c19d7-b809-4f86-ef91-df2f50384690"
      },
      "source": [
        "import tensorflow as tf\n",
        "import keras\n",
        "import numpy as np\n",
        "\n"
      ],
      "execution_count": 10,
      "outputs": [
        {
          "output_type": "stream",
          "text": [
            "Using TensorFlow backend.\n"
          ],
          "name": "stderr"
        }
      ]
    },
    {
      "cell_type": "code",
      "metadata": {
        "id": "3DT4h81WPmjO",
        "colab_type": "code",
        "colab": {}
      },
      "source": [
        "from keras.utils import to_categorical"
      ],
      "execution_count": 11,
      "outputs": []
    },
    {
      "cell_type": "code",
      "metadata": {
        "id": "mQsASe1tQna1",
        "colab_type": "code",
        "colab": {}
      },
      "source": [
        "y_train_oh=to_categorical(y_train,num_classes=10,dtype='float32')\n",
        "y_test_oh=to_categorical(y_test,num_classes=10,dtype='float32')"
      ],
      "execution_count": 12,
      "outputs": []
    },
    {
      "cell_type": "markdown",
      "metadata": {
        "id": "YRDJAiIY7GBE",
        "colab_type": "text"
      },
      "source": [
        "DETAILS OF DATASETS"
      ]
    },
    {
      "cell_type": "code",
      "metadata": {
        "id": "JnygpgCJQ3QE",
        "colab_type": "code",
        "colab": {
          "base_uri": "https://localhost:8080/",
          "height": 85
        },
        "outputId": "3e10bcea-ab4e-4130-eb69-f4ee87429d46"
      },
      "source": [
        "print(y_train.shape)\n",
        "print(y_train_oh.shape)\n",
        "print(y_test.shape)\n",
        "print(y_test_oh.shape)"
      ],
      "execution_count": 13,
      "outputs": [
        {
          "output_type": "stream",
          "text": [
            "(60000,)\n",
            "(60000, 10)\n",
            "(10000,)\n",
            "(10000, 10)\n"
          ],
          "name": "stdout"
        }
      ]
    },
    {
      "cell_type": "code",
      "metadata": {
        "id": "iS_46LzdR_t1",
        "colab_type": "code",
        "colab": {
          "base_uri": "https://localhost:8080/",
          "height": 51
        },
        "outputId": "0973bcdf-02ee-4d9e-df85-ac891f7c861e"
      },
      "source": [
        "print(X_train.shape)\n",
        "print(X_test.shape)"
      ],
      "execution_count": 14,
      "outputs": [
        {
          "output_type": "stream",
          "text": [
            "(60000, 28, 28, 1)\n",
            "(10000, 28, 28, 1)\n"
          ],
          "name": "stdout"
        }
      ]
    },
    {
      "cell_type": "markdown",
      "metadata": {
        "id": "jw58Hsym7d92",
        "colab_type": "text"
      },
      "source": [
        "**DEFINING** **THE MODEL**"
      ]
    },
    {
      "cell_type": "code",
      "metadata": {
        "id": "-JP8SdNsSQlh",
        "colab_type": "code",
        "colab": {}
      },
      "source": [
        "from keras.models import Sequential\n",
        "from keras.layers import Conv2D,MaxPooling2D,Dense,Flatten,Dropout\n",
        "from keras.optimizers import adam"
      ],
      "execution_count": 15,
      "outputs": []
    },
    {
      "cell_type": "code",
      "metadata": {
        "id": "Wa2kXyoQS-E7",
        "colab_type": "code",
        "colab": {
          "base_uri": "https://localhost:8080/",
          "height": 561
        },
        "outputId": "00374456-807f-4a6f-cabf-03f14b7feb7a"
      },
      "source": [
        "model=Sequential()\n",
        "model.add(Conv2D(filters = 32, kernel_size = (5,5),padding = 'Same', \n",
        "                 activation ='relu', input_shape = (28,28,1)))\n",
        "\n",
        "model.add(Conv2D(filters = 32, kernel_size = (5,5),padding = 'Same', \n",
        "                 activation ='relu'))\n",
        "model.add(MaxPooling2D(pool_size=(2,2)))\n",
        "model.add(Dropout(0.25))\n",
        "\n",
        "\n",
        "model.add(Conv2D(filters = 64, kernel_size = (3,3),padding = 'Same', \n",
        "                 activation ='relu'))\n",
        "model.add(Conv2D(filters = 64, kernel_size = (3,3),padding = 'Same', \n",
        "                 activation ='relu'))\n",
        "model.add(MaxPooling2D(pool_size=(2,2), strides=(2,2)))\n",
        "model.add(Dropout(0.25))\n",
        "\n",
        "model.add(Flatten())\n",
        "\n",
        "model.add(Dense(256, activation = \"relu\"))\n",
        "model.add(Dropout(0.5))\n",
        "#model.add(Dense(256,activation='relu'))\n",
        "model.add(Dense(10, activation = \"softmax\"))\n",
        "model.summary()"
      ],
      "execution_count": 16,
      "outputs": [
        {
          "output_type": "stream",
          "text": [
            "Model: \"sequential_1\"\n",
            "_________________________________________________________________\n",
            "Layer (type)                 Output Shape              Param #   \n",
            "=================================================================\n",
            "conv2d_1 (Conv2D)            (None, 28, 28, 32)        832       \n",
            "_________________________________________________________________\n",
            "conv2d_2 (Conv2D)            (None, 28, 28, 32)        25632     \n",
            "_________________________________________________________________\n",
            "max_pooling2d_1 (MaxPooling2 (None, 14, 14, 32)        0         \n",
            "_________________________________________________________________\n",
            "dropout_1 (Dropout)          (None, 14, 14, 32)        0         \n",
            "_________________________________________________________________\n",
            "conv2d_3 (Conv2D)            (None, 14, 14, 64)        18496     \n",
            "_________________________________________________________________\n",
            "conv2d_4 (Conv2D)            (None, 14, 14, 64)        36928     \n",
            "_________________________________________________________________\n",
            "max_pooling2d_2 (MaxPooling2 (None, 7, 7, 64)          0         \n",
            "_________________________________________________________________\n",
            "dropout_2 (Dropout)          (None, 7, 7, 64)          0         \n",
            "_________________________________________________________________\n",
            "flatten_1 (Flatten)          (None, 3136)              0         \n",
            "_________________________________________________________________\n",
            "dense_1 (Dense)              (None, 256)               803072    \n",
            "_________________________________________________________________\n",
            "dropout_3 (Dropout)          (None, 256)               0         \n",
            "_________________________________________________________________\n",
            "dense_2 (Dense)              (None, 10)                2570      \n",
            "=================================================================\n",
            "Total params: 887,530\n",
            "Trainable params: 887,530\n",
            "Non-trainable params: 0\n",
            "_________________________________________________________________\n"
          ],
          "name": "stdout"
        }
      ]
    },
    {
      "cell_type": "markdown",
      "metadata": {
        "id": "VfwnUgbzIMNM",
        "colab_type": "text"
      },
      "source": [
        "WE ARE USING DROPOUT TO CONTROL OVERFITTING. WITHOUT DROPOUT TRAIN_ACCURACY WAS 0.98 AND VAL_ACCURACY WAS 0.92 , HENCE THERE WAS A SEVERE CASE OF OVERFITTING"
      ]
    },
    {
      "cell_type": "markdown",
      "metadata": {
        "id": "J30NlNKG8H-0",
        "colab_type": "text"
      },
      "source": [
        "TRAINING THE MODEL"
      ]
    },
    {
      "cell_type": "code",
      "metadata": {
        "id": "zaR-jYXG8O-f",
        "colab_type": "code",
        "colab": {}
      },
      "source": [
        "keras.backend.clear_session"
      ],
      "execution_count": null,
      "outputs": []
    },
    {
      "cell_type": "code",
      "metadata": {
        "id": "c93D4vQ1X70K",
        "colab_type": "code",
        "colab": {}
      },
      "source": [
        "model.compile(optimizer=adam(),loss='categorical_crossentropy',metrics=['accuracy'])"
      ],
      "execution_count": 19,
      "outputs": []
    },
    {
      "cell_type": "code",
      "metadata": {
        "id": "iWq5lsDXZoal",
        "colab_type": "code",
        "colab": {
          "base_uri": "https://localhost:8080/",
          "height": 731
        },
        "outputId": "9167f3e3-13ec-45b5-d375-750303bb10f0"
      },
      "source": [
        "hist=model.fit(x=X_train,y=y_train_oh,batch_size=32,epochs=20,validation_data=(X_test,y_test_oh))\n",
        "_,acc=model.evaluate(x=X_test,y=y_test_oh)"
      ],
      "execution_count": 20,
      "outputs": [
        {
          "output_type": "stream",
          "text": [
            "Train on 60000 samples, validate on 10000 samples\n",
            "Epoch 1/20\n",
            "60000/60000 [==============================] - 30s 500us/step - loss: 0.4731 - accuracy: 0.8272 - val_loss: 0.3168 - val_accuracy: 0.8838\n",
            "Epoch 2/20\n",
            "60000/60000 [==============================] - 23s 386us/step - loss: 0.3140 - accuracy: 0.8846 - val_loss: 0.2893 - val_accuracy: 0.8954\n",
            "Epoch 3/20\n",
            "60000/60000 [==============================] - 23s 385us/step - loss: 0.2767 - accuracy: 0.8982 - val_loss: 0.2425 - val_accuracy: 0.9093\n",
            "Epoch 4/20\n",
            "60000/60000 [==============================] - 23s 385us/step - loss: 0.2496 - accuracy: 0.9078 - val_loss: 0.2263 - val_accuracy: 0.9172\n",
            "Epoch 5/20\n",
            "60000/60000 [==============================] - 23s 388us/step - loss: 0.2362 - accuracy: 0.9131 - val_loss: 0.2211 - val_accuracy: 0.9154\n",
            "Epoch 6/20\n",
            "60000/60000 [==============================] - 23s 386us/step - loss: 0.2226 - accuracy: 0.9178 - val_loss: 0.2307 - val_accuracy: 0.9171\n",
            "Epoch 7/20\n",
            "60000/60000 [==============================] - 24s 396us/step - loss: 0.2127 - accuracy: 0.9221 - val_loss: 0.2325 - val_accuracy: 0.9153\n",
            "Epoch 8/20\n",
            "60000/60000 [==============================] - 23s 385us/step - loss: 0.2007 - accuracy: 0.9253 - val_loss: 0.2211 - val_accuracy: 0.9208\n",
            "Epoch 9/20\n",
            "60000/60000 [==============================] - 23s 385us/step - loss: 0.1977 - accuracy: 0.9278 - val_loss: 0.2181 - val_accuracy: 0.9233\n",
            "Epoch 10/20\n",
            "60000/60000 [==============================] - 23s 385us/step - loss: 0.1913 - accuracy: 0.9298 - val_loss: 0.2116 - val_accuracy: 0.9234\n",
            "Epoch 11/20\n",
            "60000/60000 [==============================] - 23s 385us/step - loss: 0.1839 - accuracy: 0.9323 - val_loss: 0.2132 - val_accuracy: 0.9284\n",
            "Epoch 12/20\n",
            "60000/60000 [==============================] - 23s 385us/step - loss: 0.1814 - accuracy: 0.9328 - val_loss: 0.2161 - val_accuracy: 0.9237\n",
            "Epoch 13/20\n",
            "60000/60000 [==============================] - 23s 384us/step - loss: 0.1743 - accuracy: 0.9347 - val_loss: 0.2172 - val_accuracy: 0.9253\n",
            "Epoch 14/20\n",
            "60000/60000 [==============================] - 23s 384us/step - loss: 0.1719 - accuracy: 0.9366 - val_loss: 0.2134 - val_accuracy: 0.9269\n",
            "Epoch 15/20\n",
            "60000/60000 [==============================] - 23s 384us/step - loss: 0.1668 - accuracy: 0.9389 - val_loss: 0.2149 - val_accuracy: 0.9293\n",
            "Epoch 16/20\n",
            "60000/60000 [==============================] - 23s 384us/step - loss: 0.1674 - accuracy: 0.9372 - val_loss: 0.2245 - val_accuracy: 0.9254\n",
            "Epoch 17/20\n",
            "60000/60000 [==============================] - 23s 384us/step - loss: 0.1620 - accuracy: 0.9403 - val_loss: 0.2179 - val_accuracy: 0.9253\n",
            "Epoch 18/20\n",
            "60000/60000 [==============================] - 23s 389us/step - loss: 0.1619 - accuracy: 0.9398 - val_loss: 0.2234 - val_accuracy: 0.9296\n",
            "Epoch 19/20\n",
            "60000/60000 [==============================] - 23s 385us/step - loss: 0.1603 - accuracy: 0.9401 - val_loss: 0.2180 - val_accuracy: 0.9275\n",
            "Epoch 20/20\n",
            "60000/60000 [==============================] - 24s 397us/step - loss: 0.1588 - accuracy: 0.9402 - val_loss: 0.2223 - val_accuracy: 0.9278\n",
            "10000/10000 [==============================] - 1s 128us/step\n"
          ],
          "name": "stdout"
        }
      ]
    },
    {
      "cell_type": "markdown",
      "metadata": {
        "id": "gFz2BXBgH0EB",
        "colab_type": "text"
      },
      "source": [
        "**CLASSIFICATION REPORT**"
      ]
    },
    {
      "cell_type": "code",
      "metadata": {
        "id": "Y5izoA36DeeK",
        "colab_type": "code",
        "colab": {}
      },
      "source": [
        "import matplotlib.pyplot as plt\n"
      ],
      "execution_count": 23,
      "outputs": []
    },
    {
      "cell_type": "code",
      "metadata": {
        "id": "ZV4dMe2sa8ch",
        "colab_type": "code",
        "colab": {
          "base_uri": "https://localhost:8080/",
          "height": 279
        },
        "outputId": "30d971eb-ab7b-4f68-b6b9-9ca7433674ac"
      },
      "source": [
        "# Get training and test loss histories\n",
        "training_loss = hist.history['loss']\n",
        "test_loss = hist.history['val_loss']\n",
        "\n",
        "# Create count of the number of epochs\n",
        "epoch_count = range(1, len(training_loss) + 1)\n",
        "\n",
        "# Visualize loss history\n",
        "plt.plot(epoch_count, training_loss, 'r--')\n",
        "plt.plot(epoch_count, test_loss, 'b-')\n",
        "plt.legend(['Training Loss', 'Test Loss'])\n",
        "plt.xlabel('Epoch')\n",
        "plt.ylabel('Loss')\n",
        "plt.show();"
      ],
      "execution_count": 24,
      "outputs": [
        {
          "output_type": "display_data",
          "data": {
            "image/png": "[encoded data removed]",
            "text/plain": [
              "<Figure size 432x288 with 1 Axes>"
            ]
          },
          "metadata": {
            "tags": [],
            "needs_background": "light"
          }
        }
      ]
    },
    {
      "cell_type": "code",
      "metadata": {
        "id": "4zSHIydN_-2P",
        "colab_type": "code",
        "colab": {
          "base_uri": "https://localhost:8080/",
          "height": 295
        },
        "outputId": "019416be-daab-4edf-dd94-8aea54d5e92b"
      },
      "source": [
        "loss_train = hist.history['accuracy']\n",
        "loss_val = hist.history['val_accuracy']\n",
        "epochs = range(1,21)\n",
        "plt.plot(epochs, loss_train, 'g', label='Training accuracy')\n",
        "plt.plot(epochs, loss_val, 'b', label='validation accuracy')\n",
        "plt.title('Training and Validation accuracy')\n",
        "plt.xlabel('Epochs')\n",
        "plt.ylabel('Accuracy')\n",
        "plt.legend()\n",
        "plt.show()"
      ],
      "execution_count": 28,
      "outputs": [
        {
          "output_type": "display_data",
          "data": {
            "image/png": "[encoded data removed]",
            "text/plain": [
              "<Figure size 432x288 with 1 Axes>"
            ]
          },
          "metadata": {
            "tags": [],
            "needs_background": "light"
          }
        }
      ]
    },
    {
      "cell_type": "code",
      "metadata": {
        "id": "UYP3PdsEEu2w",
        "colab_type": "code",
        "colab": {
          "base_uri": "https://localhost:8080/",
          "height": 306
        },
        "outputId": "97b3d04a-fa1c-421d-b2df-76dd5166d739"
      },
      "source": [
        "import sklearn.metrics as metrics\n",
        "pred_oh=model.predict(X_test)\n",
        "pred_labels=np.argmax(pred_oh,axis=1)\n",
        "print(metrics.classification_report(y_test,pred_labels))"
      ],
      "execution_count": 36,
      "outputs": [
        {
          "output_type": "stream",
          "text": [
            "              precision    recall  f1-score   support\n",
            "\n",
            "           0       0.85      0.91      0.88      1000\n",
            "           1       0.99      0.99      0.99      1000\n",
            "           2       0.90      0.89      0.89      1000\n",
            "           3       0.92      0.95      0.94      1000\n",
            "           4       0.88      0.88      0.88      1000\n",
            "           5       0.99      0.98      0.99      1000\n",
            "           6       0.82      0.75      0.78      1000\n",
            "           7       0.95      0.99      0.97      1000\n",
            "           8       0.99      0.98      0.98      1000\n",
            "           9       0.99      0.96      0.97      1000\n",
            "\n",
            "    accuracy                           0.93     10000\n",
            "   macro avg       0.93      0.93      0.93     10000\n",
            "weighted avg       0.93      0.93      0.93     10000\n",
            "\n"
          ],
          "name": "stdout"
        }
      ]
    },
    {
      "cell_type": "markdown",
      "metadata": {
        "id": "hFq1m5EFJVrJ",
        "colab_type": "text"
      },
      "source": [
        "**SAVING THE MODEL**"
      ]
    },
    {
      "cell_type": "code",
      "metadata": {
        "id": "iYg1e2ydJVPw",
        "colab_type": "code",
        "colab": {}
      },
      "source": [
        "import pickle\n",
        "name='Fashion_MNIST.sav'\n",
        "pickle.dump(model,open(name,'wb'))"
      ],
      "execution_count": 37,
      "outputs": []
    }
  ]
}